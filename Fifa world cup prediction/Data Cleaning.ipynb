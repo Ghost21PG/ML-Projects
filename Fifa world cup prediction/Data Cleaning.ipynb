{
 "cells": [
  {
   "cell_type": "code",
   "execution_count": 1,
   "id": "2756aac3",
   "metadata": {},
   "outputs": [],
   "source": [
    "import pandas as pd"
   ]
  },
  {
   "cell_type": "markdown",
   "id": "6ca6594b",
   "metadata": {},
   "source": [
    "# Fifa world cup 2026 fixtures"
   ]
  },
  {
   "cell_type": "markdown",
   "id": "cf574cdf",
   "metadata": {},
   "source": [
    "### We will clean the fixture when the list will be completed"
   ]
  },
  {
   "cell_type": "code",
   "execution_count": null,
   "id": "ede53914",
   "metadata": {},
   "outputs": [],
   "source": []
  },
  {
   "cell_type": "code",
   "execution_count": null,
   "id": "33e1f240",
   "metadata": {},
   "outputs": [],
   "source": []
  },
  {
   "cell_type": "markdown",
   "id": "1e17b6cf",
   "metadata": {},
   "source": [
    "# Data Pre-Processing for Previous Matches"
   ]
  },
  {
   "cell_type": "code",
   "execution_count": 2,
   "id": "5245c5ac",
   "metadata": {},
   "outputs": [],
   "source": [
    "df_historical_data = pd.read_csv(\"C:/Users/goelp/Desktop/Python Projects/Fifa world cup prediction/Fifa_worldcup_data.csv\")"
   ]
  },
  {
   "cell_type": "code",
   "execution_count": 5,
   "id": "39420dfe",
   "metadata": {},
   "outputs": [
    {
     "data": {
      "text/html": [
       "<div>\n",
       "<style scoped>\n",
       "    .dataframe tbody tr th:only-of-type {\n",
       "        vertical-align: middle;\n",
       "    }\n",
       "\n",
       "    .dataframe tbody tr th {\n",
       "        vertical-align: top;\n",
       "    }\n",
       "\n",
       "    .dataframe thead th {\n",
       "        text-align: right;\n",
       "    }\n",
       "</style>\n",
       "<table border=\"1\" class=\"dataframe\">\n",
       "  <thead>\n",
       "    <tr style=\"text-align: right;\">\n",
       "      <th></th>\n",
       "      <th>home</th>\n",
       "      <th>score</th>\n",
       "      <th>away</th>\n",
       "      <th>year</th>\n",
       "    </tr>\n",
       "  </thead>\n",
       "  <tbody>\n",
       "    <tr>\n",
       "      <th>924</th>\n",
       "      <td>England</td>\n",
       "      <td>1–2</td>\n",
       "      <td>France</td>\n",
       "      <td>2022</td>\n",
       "    </tr>\n",
       "    <tr>\n",
       "      <th>925</th>\n",
       "      <td>Argentina</td>\n",
       "      <td>3–0</td>\n",
       "      <td>Croatia</td>\n",
       "      <td>2022</td>\n",
       "    </tr>\n",
       "    <tr>\n",
       "      <th>926</th>\n",
       "      <td>France</td>\n",
       "      <td>2–0</td>\n",
       "      <td>Morocco</td>\n",
       "      <td>2022</td>\n",
       "    </tr>\n",
       "    <tr>\n",
       "      <th>927</th>\n",
       "      <td>Croatia</td>\n",
       "      <td>2–1</td>\n",
       "      <td>Morocco</td>\n",
       "      <td>2022</td>\n",
       "    </tr>\n",
       "    <tr>\n",
       "      <th>928</th>\n",
       "      <td>Argentina</td>\n",
       "      <td>3–3 (a.e.t.)</td>\n",
       "      <td>France</td>\n",
       "      <td>2022</td>\n",
       "    </tr>\n",
       "  </tbody>\n",
       "</table>\n",
       "</div>"
      ],
      "text/plain": [
       "           home         score      away  year\n",
       "924    England            1–2    France  2022\n",
       "925  Argentina            3–0   Croatia  2022\n",
       "926     France            2–0   Morocco  2022\n",
       "927    Croatia            2–1   Morocco  2022\n",
       "928  Argentina   3–3 (a.e.t.)    France  2022"
      ]
     },
     "execution_count": 5,
     "metadata": {},
     "output_type": "execute_result"
    }
   ],
   "source": [
    "df_historical_data.tail()"
   ]
  },
  {
   "cell_type": "code",
   "execution_count": 6,
   "id": "10548e44",
   "metadata": {},
   "outputs": [],
   "source": [
    "df_historical_data.drop_duplicates(inplace=True)\n",
    "df_historical_data.sort_values('year', inplace=True)"
   ]
  },
  {
   "cell_type": "code",
   "execution_count": 10,
   "id": "6166c10c",
   "metadata": {},
   "outputs": [
    {
     "data": {
      "text/plain": [
       "(929, 4)"
      ]
     },
     "execution_count": 10,
     "metadata": {},
     "output_type": "execute_result"
    }
   ],
   "source": [
    "df_historical_data.shape"
   ]
  },
  {
   "cell_type": "code",
   "execution_count": 14,
   "id": "9052317d",
   "metadata": {},
   "outputs": [
    {
     "data": {
      "text/plain": [
       "home     0\n",
       "score    0\n",
       "away     0\n",
       "year     0\n",
       "dtype: int64"
      ]
     },
     "execution_count": 14,
     "metadata": {},
     "output_type": "execute_result"
    }
   ],
   "source": [
    "df_historical_data.isnull().sum()"
   ]
  },
  {
   "cell_type": "code",
   "execution_count": null,
   "id": "821503f2",
   "metadata": {},
   "outputs": [],
   "source": []
  }
 ],
 "metadata": {
  "kernelspec": {
   "display_name": "Python 3 (ipykernel)",
   "language": "python",
   "name": "python3"
  },
  "language_info": {
   "codemirror_mode": {
    "name": "ipython",
    "version": 3
   },
   "file_extension": ".py",
   "mimetype": "text/x-python",
   "name": "python",
   "nbconvert_exporter": "python",
   "pygments_lexer": "ipython3",
   "version": "3.11.3"
  }
 },
 "nbformat": 4,
 "nbformat_minor": 5
}
