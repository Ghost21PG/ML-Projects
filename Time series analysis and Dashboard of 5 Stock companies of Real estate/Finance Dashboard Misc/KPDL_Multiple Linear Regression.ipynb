{
 "cells": [
  {
   "cell_type": "code",
   "execution_count": 2,
   "id": "859fa313",
   "metadata": {},
   "outputs": [],
   "source": [
    "import pandas as pd\n",
    "import numpy as np\n",
    "from sklearn.model_selection import train_test_split\n",
    "from sklearn import linear_model"
   ]
  },
  {
   "cell_type": "code",
   "execution_count": 3,
   "id": "dd141255",
   "metadata": {},
   "outputs": [
    {
     "data": {
      "text/html": [
       "<div>\n",
       "<style scoped>\n",
       "    .dataframe tbody tr th:only-of-type {\n",
       "        vertical-align: middle;\n",
       "    }\n",
       "\n",
       "    .dataframe tbody tr th {\n",
       "        vertical-align: top;\n",
       "    }\n",
       "\n",
       "    .dataframe thead th {\n",
       "        text-align: right;\n",
       "    }\n",
       "</style>\n",
       "<table border=\"1\" class=\"dataframe\">\n",
       "  <thead>\n",
       "    <tr style=\"text-align: right;\">\n",
       "      <th></th>\n",
       "      <th>Date</th>\n",
       "      <th>Open</th>\n",
       "      <th>High</th>\n",
       "      <th>Low</th>\n",
       "      <th>Close</th>\n",
       "      <th>Adj Close</th>\n",
       "      <th>Volume</th>\n",
       "    </tr>\n",
       "  </thead>\n",
       "  <tbody>\n",
       "    <tr>\n",
       "      <th>0</th>\n",
       "      <td>2013-09-23</td>\n",
       "      <td>64.050003</td>\n",
       "      <td>65.500000</td>\n",
       "      <td>61.599998</td>\n",
       "      <td>62.150002</td>\n",
       "      <td>58.127819</td>\n",
       "      <td>31801.0</td>\n",
       "    </tr>\n",
       "    <tr>\n",
       "      <th>1</th>\n",
       "      <td>2013-09-24</td>\n",
       "      <td>62.150002</td>\n",
       "      <td>62.549999</td>\n",
       "      <td>60.250000</td>\n",
       "      <td>61.400002</td>\n",
       "      <td>57.426353</td>\n",
       "      <td>45349.0</td>\n",
       "    </tr>\n",
       "    <tr>\n",
       "      <th>2</th>\n",
       "      <td>2013-09-25</td>\n",
       "      <td>61.500000</td>\n",
       "      <td>66.750000</td>\n",
       "      <td>60.799999</td>\n",
       "      <td>64.000000</td>\n",
       "      <td>59.858086</td>\n",
       "      <td>111210.0</td>\n",
       "    </tr>\n",
       "    <tr>\n",
       "      <th>3</th>\n",
       "      <td>2013-09-26</td>\n",
       "      <td>63.700001</td>\n",
       "      <td>66.000000</td>\n",
       "      <td>63.049999</td>\n",
       "      <td>64.199997</td>\n",
       "      <td>60.045143</td>\n",
       "      <td>66809.0</td>\n",
       "    </tr>\n",
       "    <tr>\n",
       "      <th>4</th>\n",
       "      <td>2013-09-27</td>\n",
       "      <td>64.099998</td>\n",
       "      <td>67.500000</td>\n",
       "      <td>63.549999</td>\n",
       "      <td>65.400002</td>\n",
       "      <td>61.167480</td>\n",
       "      <td>78111.0</td>\n",
       "    </tr>\n",
       "    <tr>\n",
       "      <th>...</th>\n",
       "      <td>...</td>\n",
       "      <td>...</td>\n",
       "      <td>...</td>\n",
       "      <td>...</td>\n",
       "      <td>...</td>\n",
       "      <td>...</td>\n",
       "      <td>...</td>\n",
       "    </tr>\n",
       "    <tr>\n",
       "      <th>2463</th>\n",
       "      <td>2023-09-14</td>\n",
       "      <td>455.049988</td>\n",
       "      <td>465.850006</td>\n",
       "      <td>450.000000</td>\n",
       "      <td>454.950012</td>\n",
       "      <td>454.950012</td>\n",
       "      <td>13522.0</td>\n",
       "    </tr>\n",
       "    <tr>\n",
       "      <th>2464</th>\n",
       "      <td>2023-09-15</td>\n",
       "      <td>461.950012</td>\n",
       "      <td>461.950012</td>\n",
       "      <td>446.200012</td>\n",
       "      <td>456.049988</td>\n",
       "      <td>456.049988</td>\n",
       "      <td>12991.0</td>\n",
       "    </tr>\n",
       "    <tr>\n",
       "      <th>2465</th>\n",
       "      <td>2023-09-18</td>\n",
       "      <td>458.100006</td>\n",
       "      <td>458.100006</td>\n",
       "      <td>439.799988</td>\n",
       "      <td>443.850006</td>\n",
       "      <td>443.850006</td>\n",
       "      <td>21202.0</td>\n",
       "    </tr>\n",
       "    <tr>\n",
       "      <th>2466</th>\n",
       "      <td>2023-09-20</td>\n",
       "      <td>440.049988</td>\n",
       "      <td>443.500000</td>\n",
       "      <td>428.250000</td>\n",
       "      <td>433.399994</td>\n",
       "      <td>433.399994</td>\n",
       "      <td>24868.0</td>\n",
       "    </tr>\n",
       "    <tr>\n",
       "      <th>2467</th>\n",
       "      <td>2023-09-21</td>\n",
       "      <td>435.049988</td>\n",
       "      <td>438.000000</td>\n",
       "      <td>426.000000</td>\n",
       "      <td>434.850006</td>\n",
       "      <td>434.850006</td>\n",
       "      <td>7397.0</td>\n",
       "    </tr>\n",
       "  </tbody>\n",
       "</table>\n",
       "<p>2468 rows × 7 columns</p>\n",
       "</div>"
      ],
      "text/plain": [
       "            Date        Open        High         Low       Close   Adj Close  \\\n",
       "0     2013-09-23   64.050003   65.500000   61.599998   62.150002   58.127819   \n",
       "1     2013-09-24   62.150002   62.549999   60.250000   61.400002   57.426353   \n",
       "2     2013-09-25   61.500000   66.750000   60.799999   64.000000   59.858086   \n",
       "3     2013-09-26   63.700001   66.000000   63.049999   64.199997   60.045143   \n",
       "4     2013-09-27   64.099998   67.500000   63.549999   65.400002   61.167480   \n",
       "...          ...         ...         ...         ...         ...         ...   \n",
       "2463  2023-09-14  455.049988  465.850006  450.000000  454.950012  454.950012   \n",
       "2464  2023-09-15  461.950012  461.950012  446.200012  456.049988  456.049988   \n",
       "2465  2023-09-18  458.100006  458.100006  439.799988  443.850006  443.850006   \n",
       "2466  2023-09-20  440.049988  443.500000  428.250000  433.399994  433.399994   \n",
       "2467  2023-09-21  435.049988  438.000000  426.000000  434.850006  434.850006   \n",
       "\n",
       "        Volume  \n",
       "0      31801.0  \n",
       "1      45349.0  \n",
       "2     111210.0  \n",
       "3      66809.0  \n",
       "4      78111.0  \n",
       "...        ...  \n",
       "2463   13522.0  \n",
       "2464   12991.0  \n",
       "2465   21202.0  \n",
       "2466   24868.0  \n",
       "2467    7397.0  \n",
       "\n",
       "[2468 rows x 7 columns]"
      ]
     },
     "execution_count": 3,
     "metadata": {},
     "output_type": "execute_result"
    }
   ],
   "source": [
    "kpdl_data = pd.read_csv(\"C:/Users/Admin/Downloads/KOLTEPATIL.BO.csv\")\n",
    "kpdl_data"
   ]
  },
  {
   "cell_type": "code",
   "execution_count": 4,
   "id": "6e0e0562",
   "metadata": {},
   "outputs": [
    {
     "data": {
      "text/plain": [
       "(array([ 123,  123,  123,  123,  123,  123,  144,  144,  144,  144,  144,\n",
       "         144,  261,  261,  261,  261,  261,  261,  352,  352,  352,  352,\n",
       "         352,  352, 1078, 1078, 1078, 1078, 1078, 1078, 1095, 1095, 1095,\n",
       "        1095, 1095, 1095, 1096, 1096, 1096, 1096, 1096, 1096, 1656, 1656,\n",
       "        1656, 1656, 1656, 1656, 1666, 1666, 1666, 1666, 1666, 1666, 2070,\n",
       "        2070, 2070, 2070, 2070, 2070, 2121, 2121, 2121, 2121, 2121, 2121,\n",
       "        2380, 2380, 2380, 2380, 2380, 2380, 2387, 2387, 2387, 2387, 2387,\n",
       "        2387, 2411, 2411, 2411, 2411, 2411, 2411, 2412, 2412, 2412, 2412,\n",
       "        2412, 2412, 2413, 2413, 2413, 2413, 2413, 2413, 2414, 2414, 2414,\n",
       "        2414, 2414, 2414, 2417, 2417, 2417, 2417, 2417, 2417, 2418, 2418,\n",
       "        2418, 2418, 2418, 2418, 2419, 2419, 2419, 2419, 2419, 2419, 2422,\n",
       "        2422, 2422, 2422, 2422, 2422, 2427, 2427, 2427, 2427, 2427, 2427,\n",
       "        2429, 2429, 2429, 2429, 2429, 2429, 2431, 2431, 2431, 2431, 2431,\n",
       "        2431, 2432, 2432, 2432, 2432, 2432, 2432, 2433, 2433, 2433, 2433,\n",
       "        2433, 2433], dtype=int64),\n",
       " array([1, 2, 3, 4, 5, 6, 1, 2, 3, 4, 5, 6, 1, 2, 3, 4, 5, 6, 1, 2, 3, 4,\n",
       "        5, 6, 1, 2, 3, 4, 5, 6, 1, 2, 3, 4, 5, 6, 1, 2, 3, 4, 5, 6, 1, 2,\n",
       "        3, 4, 5, 6, 1, 2, 3, 4, 5, 6, 1, 2, 3, 4, 5, 6, 1, 2, 3, 4, 5, 6,\n",
       "        1, 2, 3, 4, 5, 6, 1, 2, 3, 4, 5, 6, 1, 2, 3, 4, 5, 6, 1, 2, 3, 4,\n",
       "        5, 6, 1, 2, 3, 4, 5, 6, 1, 2, 3, 4, 5, 6, 1, 2, 3, 4, 5, 6, 1, 2,\n",
       "        3, 4, 5, 6, 1, 2, 3, 4, 5, 6, 1, 2, 3, 4, 5, 6, 1, 2, 3, 4, 5, 6,\n",
       "        1, 2, 3, 4, 5, 6, 1, 2, 3, 4, 5, 6, 1, 2, 3, 4, 5, 6, 1, 2, 3, 4,\n",
       "        5, 6], dtype=int64))"
      ]
     },
     "execution_count": 4,
     "metadata": {},
     "output_type": "execute_result"
    }
   ],
   "source": [
    "np.where(pd.isnull(kpdl_data))"
   ]
  },
  {
   "cell_type": "code",
   "execution_count": 5,
   "id": "f61d476d",
   "metadata": {},
   "outputs": [
    {
     "data": {
      "text/html": [
       "<div>\n",
       "<style scoped>\n",
       "    .dataframe tbody tr th:only-of-type {\n",
       "        vertical-align: middle;\n",
       "    }\n",
       "\n",
       "    .dataframe tbody tr th {\n",
       "        vertical-align: top;\n",
       "    }\n",
       "\n",
       "    .dataframe thead th {\n",
       "        text-align: right;\n",
       "    }\n",
       "</style>\n",
       "<table border=\"1\" class=\"dataframe\">\n",
       "  <thead>\n",
       "    <tr style=\"text-align: right;\">\n",
       "      <th></th>\n",
       "      <th>Date</th>\n",
       "      <th>Open</th>\n",
       "      <th>High</th>\n",
       "      <th>Low</th>\n",
       "      <th>Close</th>\n",
       "      <th>Adj Close</th>\n",
       "      <th>Volume</th>\n",
       "    </tr>\n",
       "  </thead>\n",
       "  <tbody>\n",
       "    <tr>\n",
       "      <th>0</th>\n",
       "      <td>2013-09-23</td>\n",
       "      <td>64.050003</td>\n",
       "      <td>65.500000</td>\n",
       "      <td>61.599998</td>\n",
       "      <td>62.150002</td>\n",
       "      <td>58.127819</td>\n",
       "      <td>31801.0</td>\n",
       "    </tr>\n",
       "    <tr>\n",
       "      <th>1</th>\n",
       "      <td>2013-09-24</td>\n",
       "      <td>62.150002</td>\n",
       "      <td>62.549999</td>\n",
       "      <td>60.250000</td>\n",
       "      <td>61.400002</td>\n",
       "      <td>57.426353</td>\n",
       "      <td>45349.0</td>\n",
       "    </tr>\n",
       "    <tr>\n",
       "      <th>2</th>\n",
       "      <td>2013-09-25</td>\n",
       "      <td>61.500000</td>\n",
       "      <td>66.750000</td>\n",
       "      <td>60.799999</td>\n",
       "      <td>64.000000</td>\n",
       "      <td>59.858086</td>\n",
       "      <td>111210.0</td>\n",
       "    </tr>\n",
       "    <tr>\n",
       "      <th>3</th>\n",
       "      <td>2013-09-26</td>\n",
       "      <td>63.700001</td>\n",
       "      <td>66.000000</td>\n",
       "      <td>63.049999</td>\n",
       "      <td>64.199997</td>\n",
       "      <td>60.045143</td>\n",
       "      <td>66809.0</td>\n",
       "    </tr>\n",
       "    <tr>\n",
       "      <th>4</th>\n",
       "      <td>2013-09-27</td>\n",
       "      <td>64.099998</td>\n",
       "      <td>67.500000</td>\n",
       "      <td>63.549999</td>\n",
       "      <td>65.400002</td>\n",
       "      <td>61.167480</td>\n",
       "      <td>78111.0</td>\n",
       "    </tr>\n",
       "    <tr>\n",
       "      <th>...</th>\n",
       "      <td>...</td>\n",
       "      <td>...</td>\n",
       "      <td>...</td>\n",
       "      <td>...</td>\n",
       "      <td>...</td>\n",
       "      <td>...</td>\n",
       "      <td>...</td>\n",
       "    </tr>\n",
       "    <tr>\n",
       "      <th>2463</th>\n",
       "      <td>2023-09-14</td>\n",
       "      <td>455.049988</td>\n",
       "      <td>465.850006</td>\n",
       "      <td>450.000000</td>\n",
       "      <td>454.950012</td>\n",
       "      <td>454.950012</td>\n",
       "      <td>13522.0</td>\n",
       "    </tr>\n",
       "    <tr>\n",
       "      <th>2464</th>\n",
       "      <td>2023-09-15</td>\n",
       "      <td>461.950012</td>\n",
       "      <td>461.950012</td>\n",
       "      <td>446.200012</td>\n",
       "      <td>456.049988</td>\n",
       "      <td>456.049988</td>\n",
       "      <td>12991.0</td>\n",
       "    </tr>\n",
       "    <tr>\n",
       "      <th>2465</th>\n",
       "      <td>2023-09-18</td>\n",
       "      <td>458.100006</td>\n",
       "      <td>458.100006</td>\n",
       "      <td>439.799988</td>\n",
       "      <td>443.850006</td>\n",
       "      <td>443.850006</td>\n",
       "      <td>21202.0</td>\n",
       "    </tr>\n",
       "    <tr>\n",
       "      <th>2466</th>\n",
       "      <td>2023-09-20</td>\n",
       "      <td>440.049988</td>\n",
       "      <td>443.500000</td>\n",
       "      <td>428.250000</td>\n",
       "      <td>433.399994</td>\n",
       "      <td>433.399994</td>\n",
       "      <td>24868.0</td>\n",
       "    </tr>\n",
       "    <tr>\n",
       "      <th>2467</th>\n",
       "      <td>2023-09-21</td>\n",
       "      <td>435.049988</td>\n",
       "      <td>438.000000</td>\n",
       "      <td>426.000000</td>\n",
       "      <td>434.850006</td>\n",
       "      <td>434.850006</td>\n",
       "      <td>7397.0</td>\n",
       "    </tr>\n",
       "  </tbody>\n",
       "</table>\n",
       "<p>2442 rows × 7 columns</p>\n",
       "</div>"
      ],
      "text/plain": [
       "            Date        Open        High         Low       Close   Adj Close  \\\n",
       "0     2013-09-23   64.050003   65.500000   61.599998   62.150002   58.127819   \n",
       "1     2013-09-24   62.150002   62.549999   60.250000   61.400002   57.426353   \n",
       "2     2013-09-25   61.500000   66.750000   60.799999   64.000000   59.858086   \n",
       "3     2013-09-26   63.700001   66.000000   63.049999   64.199997   60.045143   \n",
       "4     2013-09-27   64.099998   67.500000   63.549999   65.400002   61.167480   \n",
       "...          ...         ...         ...         ...         ...         ...   \n",
       "2463  2023-09-14  455.049988  465.850006  450.000000  454.950012  454.950012   \n",
       "2464  2023-09-15  461.950012  461.950012  446.200012  456.049988  456.049988   \n",
       "2465  2023-09-18  458.100006  458.100006  439.799988  443.850006  443.850006   \n",
       "2466  2023-09-20  440.049988  443.500000  428.250000  433.399994  433.399994   \n",
       "2467  2023-09-21  435.049988  438.000000  426.000000  434.850006  434.850006   \n",
       "\n",
       "        Volume  \n",
       "0      31801.0  \n",
       "1      45349.0  \n",
       "2     111210.0  \n",
       "3      66809.0  \n",
       "4      78111.0  \n",
       "...        ...  \n",
       "2463   13522.0  \n",
       "2464   12991.0  \n",
       "2465   21202.0  \n",
       "2466   24868.0  \n",
       "2467    7397.0  \n",
       "\n",
       "[2442 rows x 7 columns]"
      ]
     },
     "execution_count": 5,
     "metadata": {},
     "output_type": "execute_result"
    }
   ],
   "source": [
    "kpdl_data_2 = kpdl_data.dropna()\n",
    "kpdl_data_2"
   ]
  },
  {
   "cell_type": "code",
   "execution_count": 6,
   "id": "7f7147c0",
   "metadata": {},
   "outputs": [
    {
     "data": {
      "text/plain": [
       "(array([], dtype=int64), array([], dtype=int64))"
      ]
     },
     "execution_count": 6,
     "metadata": {},
     "output_type": "execute_result"
    }
   ],
   "source": [
    "np.where(pd.isnull(kpdl_data_2))"
   ]
  },
  {
   "cell_type": "code",
   "execution_count": 7,
   "id": "f9a1af73",
   "metadata": {},
   "outputs": [
    {
     "data": {
      "text/html": [
       "<div>\n",
       "<style scoped>\n",
       "    .dataframe tbody tr th:only-of-type {\n",
       "        vertical-align: middle;\n",
       "    }\n",
       "\n",
       "    .dataframe tbody tr th {\n",
       "        vertical-align: top;\n",
       "    }\n",
       "\n",
       "    .dataframe thead th {\n",
       "        text-align: right;\n",
       "    }\n",
       "</style>\n",
       "<table border=\"1\" class=\"dataframe\">\n",
       "  <thead>\n",
       "    <tr style=\"text-align: right;\">\n",
       "      <th></th>\n",
       "      <th>Open</th>\n",
       "      <th>High</th>\n",
       "      <th>Low</th>\n",
       "    </tr>\n",
       "  </thead>\n",
       "  <tbody>\n",
       "    <tr>\n",
       "      <th>0</th>\n",
       "      <td>64.050003</td>\n",
       "      <td>65.500000</td>\n",
       "      <td>61.599998</td>\n",
       "    </tr>\n",
       "    <tr>\n",
       "      <th>1</th>\n",
       "      <td>62.150002</td>\n",
       "      <td>62.549999</td>\n",
       "      <td>60.250000</td>\n",
       "    </tr>\n",
       "    <tr>\n",
       "      <th>2</th>\n",
       "      <td>61.500000</td>\n",
       "      <td>66.750000</td>\n",
       "      <td>60.799999</td>\n",
       "    </tr>\n",
       "    <tr>\n",
       "      <th>3</th>\n",
       "      <td>63.700001</td>\n",
       "      <td>66.000000</td>\n",
       "      <td>63.049999</td>\n",
       "    </tr>\n",
       "    <tr>\n",
       "      <th>4</th>\n",
       "      <td>64.099998</td>\n",
       "      <td>67.500000</td>\n",
       "      <td>63.549999</td>\n",
       "    </tr>\n",
       "    <tr>\n",
       "      <th>...</th>\n",
       "      <td>...</td>\n",
       "      <td>...</td>\n",
       "      <td>...</td>\n",
       "    </tr>\n",
       "    <tr>\n",
       "      <th>2463</th>\n",
       "      <td>455.049988</td>\n",
       "      <td>465.850006</td>\n",
       "      <td>450.000000</td>\n",
       "    </tr>\n",
       "    <tr>\n",
       "      <th>2464</th>\n",
       "      <td>461.950012</td>\n",
       "      <td>461.950012</td>\n",
       "      <td>446.200012</td>\n",
       "    </tr>\n",
       "    <tr>\n",
       "      <th>2465</th>\n",
       "      <td>458.100006</td>\n",
       "      <td>458.100006</td>\n",
       "      <td>439.799988</td>\n",
       "    </tr>\n",
       "    <tr>\n",
       "      <th>2466</th>\n",
       "      <td>440.049988</td>\n",
       "      <td>443.500000</td>\n",
       "      <td>428.250000</td>\n",
       "    </tr>\n",
       "    <tr>\n",
       "      <th>2467</th>\n",
       "      <td>435.049988</td>\n",
       "      <td>438.000000</td>\n",
       "      <td>426.000000</td>\n",
       "    </tr>\n",
       "  </tbody>\n",
       "</table>\n",
       "<p>2442 rows × 3 columns</p>\n",
       "</div>"
      ],
      "text/plain": [
       "            Open        High         Low\n",
       "0      64.050003   65.500000   61.599998\n",
       "1      62.150002   62.549999   60.250000\n",
       "2      61.500000   66.750000   60.799999\n",
       "3      63.700001   66.000000   63.049999\n",
       "4      64.099998   67.500000   63.549999\n",
       "...          ...         ...         ...\n",
       "2463  455.049988  465.850006  450.000000\n",
       "2464  461.950012  461.950012  446.200012\n",
       "2465  458.100006  458.100006  439.799988\n",
       "2466  440.049988  443.500000  428.250000\n",
       "2467  435.049988  438.000000  426.000000\n",
       "\n",
       "[2442 rows x 3 columns]"
      ]
     },
     "execution_count": 7,
     "metadata": {},
     "output_type": "execute_result"
    }
   ],
   "source": [
    "X = kpdl_data_2.iloc[: , 1:4]\n",
    "X"
   ]
  },
  {
   "cell_type": "code",
   "execution_count": 8,
   "id": "a4e39689",
   "metadata": {},
   "outputs": [
    {
     "data": {
      "text/plain": [
       "0        62.150002\n",
       "1        61.400002\n",
       "2        64.000000\n",
       "3        64.199997\n",
       "4        65.400002\n",
       "           ...    \n",
       "2463    454.950012\n",
       "2464    456.049988\n",
       "2465    443.850006\n",
       "2466    433.399994\n",
       "2467    434.850006\n",
       "Name: Close, Length: 2442, dtype: float64"
      ]
     },
     "execution_count": 8,
     "metadata": {},
     "output_type": "execute_result"
    }
   ],
   "source": [
    "y = kpdl_data_2.iloc[: , 4]\n",
    "y"
   ]
  },
  {
   "cell_type": "code",
   "execution_count": 9,
   "id": "42291819",
   "metadata": {},
   "outputs": [],
   "source": [
    "X_train, X_test, y_train, y_test = train_test_split(X, y, test_size=0.2, random_state=1)"
   ]
  },
  {
   "cell_type": "code",
   "execution_count": 10,
   "id": "2f232238",
   "metadata": {},
   "outputs": [
    {
     "data": {
      "text/html": [
       "<div>\n",
       "<style scoped>\n",
       "    .dataframe tbody tr th:only-of-type {\n",
       "        vertical-align: middle;\n",
       "    }\n",
       "\n",
       "    .dataframe tbody tr th {\n",
       "        vertical-align: top;\n",
       "    }\n",
       "\n",
       "    .dataframe thead th {\n",
       "        text-align: right;\n",
       "    }\n",
       "</style>\n",
       "<table border=\"1\" class=\"dataframe\">\n",
       "  <thead>\n",
       "    <tr style=\"text-align: right;\">\n",
       "      <th></th>\n",
       "      <th>Open</th>\n",
       "      <th>High</th>\n",
       "      <th>Low</th>\n",
       "    </tr>\n",
       "  </thead>\n",
       "  <tbody>\n",
       "    <tr>\n",
       "      <th>782</th>\n",
       "      <td>99.000000</td>\n",
       "      <td>99.849998</td>\n",
       "      <td>98.449997</td>\n",
       "    </tr>\n",
       "    <tr>\n",
       "      <th>76</th>\n",
       "      <td>85.349998</td>\n",
       "      <td>87.000000</td>\n",
       "      <td>84.150002</td>\n",
       "    </tr>\n",
       "    <tr>\n",
       "      <th>192</th>\n",
       "      <td>151.800003</td>\n",
       "      <td>156.899994</td>\n",
       "      <td>151.800003</td>\n",
       "    </tr>\n",
       "    <tr>\n",
       "      <th>976</th>\n",
       "      <td>207.600006</td>\n",
       "      <td>208.750000</td>\n",
       "      <td>192.850006</td>\n",
       "    </tr>\n",
       "    <tr>\n",
       "      <th>208</th>\n",
       "      <td>155.149994</td>\n",
       "      <td>167.000000</td>\n",
       "      <td>154.199997</td>\n",
       "    </tr>\n",
       "    <tr>\n",
       "      <th>...</th>\n",
       "      <td>...</td>\n",
       "      <td>...</td>\n",
       "      <td>...</td>\n",
       "    </tr>\n",
       "    <tr>\n",
       "      <th>964</th>\n",
       "      <td>161.149994</td>\n",
       "      <td>164.399994</td>\n",
       "      <td>158.500000</td>\n",
       "    </tr>\n",
       "    <tr>\n",
       "      <th>909</th>\n",
       "      <td>181.899994</td>\n",
       "      <td>183.449997</td>\n",
       "      <td>179.000000</td>\n",
       "    </tr>\n",
       "    <tr>\n",
       "      <th>1103</th>\n",
       "      <td>330.049988</td>\n",
       "      <td>342.000000</td>\n",
       "      <td>325.950012</td>\n",
       "    </tr>\n",
       "    <tr>\n",
       "      <th>237</th>\n",
       "      <td>179.899994</td>\n",
       "      <td>181.699997</td>\n",
       "      <td>176.199997</td>\n",
       "    </tr>\n",
       "    <tr>\n",
       "      <th>1065</th>\n",
       "      <td>371.000000</td>\n",
       "      <td>385.350006</td>\n",
       "      <td>362.250000</td>\n",
       "    </tr>\n",
       "  </tbody>\n",
       "</table>\n",
       "<p>1953 rows × 3 columns</p>\n",
       "</div>"
      ],
      "text/plain": [
       "            Open        High         Low\n",
       "782    99.000000   99.849998   98.449997\n",
       "76     85.349998   87.000000   84.150002\n",
       "192   151.800003  156.899994  151.800003\n",
       "976   207.600006  208.750000  192.850006\n",
       "208   155.149994  167.000000  154.199997\n",
       "...          ...         ...         ...\n",
       "964   161.149994  164.399994  158.500000\n",
       "909   181.899994  183.449997  179.000000\n",
       "1103  330.049988  342.000000  325.950012\n",
       "237   179.899994  181.699997  176.199997\n",
       "1065  371.000000  385.350006  362.250000\n",
       "\n",
       "[1953 rows x 3 columns]"
      ]
     },
     "execution_count": 10,
     "metadata": {},
     "output_type": "execute_result"
    }
   ],
   "source": [
    "X_train"
   ]
  },
  {
   "cell_type": "code",
   "execution_count": 11,
   "id": "23d3668e",
   "metadata": {},
   "outputs": [],
   "source": [
    "MLR = linear_model.LinearRegression().fit(X_train, y_train)"
   ]
  },
  {
   "cell_type": "code",
   "execution_count": 12,
   "id": "954c6609",
   "metadata": {},
   "outputs": [
    {
     "data": {
      "text/plain": [
       "489"
      ]
     },
     "execution_count": 12,
     "metadata": {},
     "output_type": "execute_result"
    }
   ],
   "source": [
    "y_pred = MLR.predict(X_test)\n",
    "len(y_pred)"
   ]
  },
  {
   "cell_type": "code",
   "execution_count": 13,
   "id": "f521124e",
   "metadata": {},
   "outputs": [],
   "source": [
    "a = pd.DataFrame(y_pred)"
   ]
  },
  {
   "cell_type": "code",
   "execution_count": 14,
   "id": "02eeab11",
   "metadata": {},
   "outputs": [
    {
     "data": {
      "text/plain": [
       "489"
      ]
     },
     "execution_count": 14,
     "metadata": {},
     "output_type": "execute_result"
    }
   ],
   "source": [
    "len(X_test)"
   ]
  },
  {
   "cell_type": "code",
   "execution_count": 46,
   "id": "9c0a5e38",
   "metadata": {},
   "outputs": [],
   "source": [
    "latest_values = [439.50, 457.10, 433.40]\n",
    "lv_array = np.array(latest_values)"
   ]
  },
  {
   "cell_type": "code",
   "execution_count": 52,
   "id": "b1478bee",
   "metadata": {},
   "outputs": [
    {
     "data": {
      "text/plain": [
       "array([[439.5, 457.1, 433.4]])"
      ]
     },
     "execution_count": 52,
     "metadata": {},
     "output_type": "execute_result"
    }
   ],
   "source": [
    "b = lv_array.reshape(1, -1)\n",
    "b\n"
   ]
  },
  {
   "cell_type": "code",
   "execution_count": 54,
   "id": "12e6156c",
   "metadata": {},
   "outputs": [
    {
     "name": "stderr",
     "output_type": "stream",
     "text": [
      "C:\\Users\\Admin\\anaconda3\\lib\\site-packages\\sklearn\\base.py:464: UserWarning: X does not have valid feature names, but LinearRegression was fitted with feature names\n",
      "  warnings.warn(\n"
     ]
    },
    {
     "data": {
      "text/plain": [
       "array([445.79193622])"
      ]
     },
     "execution_count": 54,
     "metadata": {},
     "output_type": "execute_result"
    }
   ],
   "source": [
    "latest_close_predicted = MLR.predict(b)\n",
    "latest_close_predicted"
   ]
  },
  {
   "cell_type": "code",
   "execution_count": 17,
   "id": "165201d1",
   "metadata": {},
   "outputs": [
    {
     "data": {
      "text/plain": [
       "0.010964862080805684"
      ]
     },
     "execution_count": 17,
     "metadata": {},
     "output_type": "execute_result"
    }
   ],
   "source": [
    "error = abs(436.85-441.64)/436.85\n",
    "error"
   ]
  },
  {
   "cell_type": "code",
   "execution_count": 15,
   "id": "028dce34",
   "metadata": {},
   "outputs": [
    {
     "data": {
      "text/plain": [
       "array([[442, 453, 433]])"
      ]
     },
     "execution_count": 15,
     "metadata": {},
     "output_type": "execute_result"
    }
   ],
   "source": [
    "latest_values = [442, 453, 433]\n",
    "lv_array = np.array(latest_values)\n",
    "b = lv_array.reshape(1, -1)\n",
    "b\n"
   ]
  },
  {
   "cell_type": "code",
   "execution_count": 16,
   "id": "f85c2682",
   "metadata": {},
   "outputs": [
    {
     "name": "stderr",
     "output_type": "stream",
     "text": [
      "C:\\Users\\Admin\\anaconda3\\lib\\site-packages\\sklearn\\base.py:464: UserWarning: X does not have valid feature names, but LinearRegression was fitted with feature names\n",
      "  warnings.warn(\n"
     ]
    },
    {
     "data": {
      "text/plain": [
       "array([441.64701092])"
      ]
     },
     "execution_count": 16,
     "metadata": {},
     "output_type": "execute_result"
    }
   ],
   "source": [
    "latest_close_predicted = MLR.predict(b)\n",
    "latest_close_predicted"
   ]
  }
 ],
 "metadata": {
  "kernelspec": {
   "display_name": "Python 3 (ipykernel)",
   "language": "python",
   "name": "python3"
  },
  "language_info": {
   "codemirror_mode": {
    "name": "ipython",
    "version": 3
   },
   "file_extension": ".py",
   "mimetype": "text/x-python",
   "name": "python",
   "nbconvert_exporter": "python",
   "pygments_lexer": "ipython3",
   "version": "3.10.9"
  }
 },
 "nbformat": 4,
 "nbformat_minor": 5
}
